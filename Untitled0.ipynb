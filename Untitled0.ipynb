{
  "nbformat": 4,
  "nbformat_minor": 0,
  "metadata": {
    "colab": {
      "name": "Untitled0.ipynb",
      "version": "0.3.2",
      "provenance": [],
      "collapsed_sections": [],
      "include_colab_link": true
    },
    "kernelspec": {
      "name": "python3",
      "display_name": "Python 3"
    }
  },
  "cells": [
    {
      "cell_type": "markdown",
      "metadata": {
        "id": "view-in-github",
        "colab_type": "text"
      },
      "source": [
        "<a href=\"https://colab.research.google.com/github/SJStarKiller/git1/blob/master/Untitled0.ipynb\" target=\"_parent\"><img src=\"https://colab.research.google.com/assets/colab-badge.svg\" alt=\"Open In Colab\"/></a>"
      ]
    },
    {
      "cell_type": "code",
      "metadata": {
        "id": "ZASbKAzW68cK",
        "colab_type": "code",
        "colab": {}
      },
      "source": [
        "from torchvision import datasets,transforms\n",
        "import torchvision\n",
        "import torch\n",
        "import torch.nn as nn\n",
        "import torch.optim as optim\n",
        "import torch.nn.functional as F\n",
        "from torch.utils.tensorboard import SummaryWriter\n",
        "from sklearn.metrics import confusion_matrix as c\n",
        "import matplotlib.pyplot as plt\n",
        "from itertools import product\n",
        "torch.set_grad_enabled(True)\n",
        "torch.set_printoptions(linewidth=120)"
      ],
      "execution_count": 0,
      "outputs": []
    },
    {
      "cell_type": "code",
      "metadata": {
        "id": "wWheN8__7AlE",
        "colab_type": "code",
        "colab": {}
      },
      "source": [
        "train_set=datasets.FashionMNIST(root='',download=True,train=True,transform=transforms.Compose([transforms.ToTensor()]))"
      ],
      "execution_count": 0,
      "outputs": []
    },
    {
      "cell_type": "code",
      "metadata": {
        "id": "K1Qo_hFz7r3j",
        "colab_type": "code",
        "colab": {}
      },
      "source": [
        "class Network(nn.Module):\n",
        "  def __init__(self):\n",
        "    super().__init__()\n",
        "    self.con1=nn.Conv2d(in_channels=1,out_channels=6,kernel_size=5)\n",
        "    self.con2=nn.Conv2d(in_channels=6,out_channels=12,kernel_size=5)\n",
        "    \n",
        "    self.fc1=nn.Linear(in_features=12*4*4,out_features=120)\n",
        "    self.fc2=nn.Linear(in_features=120,out_features=60)\n",
        "    self.out=nn.Linear(in_features=60,out_features=10)\n",
        "  def forward(self,t):\n",
        "    t=t\n",
        "    t=self.con1(t)\n",
        "    t=F.relu(t)\n",
        "    t=F.max_pool2d(t,kernel_size=2,stride=2)\n",
        "    t=self.con2(t)\n",
        "    t=F.relu(t)\n",
        "    t=F.max_pool2d(t,kernel_size=2,stride=2)\n",
        "    t=t.reshape(-1,12*4*4)\n",
        "    t=self.fc1(t)\n",
        "    t=F.relu(t)\n",
        "    t=self.fc2(t)\n",
        "    t=F.relu(t)\n",
        "    t=self.out(t)\n",
        "    return t\n"
      ],
      "execution_count": 0,
      "outputs": []
    },
    {
      "cell_type": "code",
      "metadata": {
        "colab_type": "code",
        "id": "vU_ARPMSj1g0",
        "colab": {}
      },
      "source": [
        "def get(preds,labels):\n",
        "  return preds.argmax(dim=1).eq(labels).sum().item()\n"
      ],
      "execution_count": 0,
      "outputs": []
    },
    {
      "cell_type": "code",
      "metadata": {
        "id": "mrKqR30o9dUA",
        "colab_type": "code",
        "colab": {}
      },
      "source": [
        "para=dict(batch=[10,100,1000],\n",
        "lr=[0.1,0.01,0.001],\n",
        "shuffle=[True,False])"
      ],
      "execution_count": 0,
      "outputs": []
    },
    {
      "cell_type": "code",
      "metadata": {
        "id": "Use0mIB_-Vdk",
        "colab_type": "code",
        "outputId": "7c1150a4-4528-4b65-bf44-42e11d2a5cca",
        "colab": {
          "base_uri": "https://localhost:8080/",
          "height": 34
        }
      },
      "source": [
        "pvals=[v for v in para.values()]\n",
        "pvals\n"
      ],
      "execution_count": 0,
      "outputs": [
        {
          "output_type": "execute_result",
          "data": {
            "text/plain": [
              "[[10, 100, 1000], [0.1, 0.01, 0.001], [True, False]]"
            ]
          },
          "metadata": {
            "tags": []
          },
          "execution_count": 54
        }
      ]
    },
    {
      "cell_type": "code",
      "metadata": {
        "id": "c2mKXrprGjxd",
        "colab_type": "code",
        "outputId": "efa0f2cf-f380-420d-995d-3353bbe9119c",
        "colab": {
          "base_uri": "https://localhost:8080/",
          "height": 323
        }
      },
      "source": [
        "for batch,lr,shuffle in product(*pvals):\n",
        "  print(batch,lr,shuffle)"
      ],
      "execution_count": 0,
      "outputs": [
        {
          "output_type": "stream",
          "text": [
            "10 0.1 True\n",
            "10 0.1 False\n",
            "10 0.01 True\n",
            "10 0.01 False\n",
            "10 0.001 True\n",
            "10 0.001 False\n",
            "100 0.1 True\n",
            "100 0.1 False\n",
            "100 0.01 True\n",
            "100 0.01 False\n",
            "100 0.001 True\n",
            "100 0.001 False\n",
            "1000 0.1 True\n",
            "1000 0.1 False\n",
            "1000 0.01 True\n",
            "1000 0.01 False\n",
            "1000 0.001 True\n",
            "1000 0.001 False\n"
          ],
          "name": "stdout"
        }
      ]
    },
    {
      "cell_type": "code",
      "metadata": {
        "id": "Vp9F13Bc9fbR",
        "colab_type": "code",
        "outputId": "0ba672ac-0fa6-4606-9b27-465ea358e8a8",
        "colab": {
          "base_uri": "https://localhost:8080/",
          "height": 1000
        }
      },
      "source": [
        "for batch,lr,shuffle in product(*pvals):\n",
        "  network=Network()\n",
        "    train_loader=torch.utils.data.DataLoader(train_set,batch_size=batch,shuffle=shuffle)\n",
        "  comment=f'batch={batch} lr={lr} shuffle={shuffle}'\n",
        "  tb=SummaryWriter(comment=comment)\n",
        "  batch=next(iter(train_loader))\n",
        "  images,labels=batch\n",
        "  grid=torchvision.utils.make_grid(images)\n",
        "  tb.add_image('images',grid)\n",
        "  tb.add_graph(network,images)\n",
        "  tb.close()\n",
        "\n",
        "  optimis=optim.Adam(network.parameters(),lr=lr)\n",
        "  for epoch in range(5):\n",
        "    total_correct=0\n",
        "    total_loss=0\n",
        "    for batch in train_loader:\n",
        "      images,labels=batch\n",
        "      preds=network(images)\n",
        "      optimis.zero_grad()\n",
        "      loss=F.cross_entropy(preds,labels)\n",
        "      loss.backward()\n",
        "      optimis.step()\n",
        "      total_loss+=loss.item()\n",
        "      total_correct+=get(preds,labels)\n",
        "    tb.add_scalar('Loss',total_loss,epoch)\n",
        "    tb.add_scalar('Number Correct',total_correct,epoch)\n",
        "    tb.add_scalar('Accuracy',total_correct/len(train_set),epoch)\n",
        "    for name,param in network.named_parameters():\n",
        "      tb.add_histogram(name,param,epoch)\n",
        "      tb.add_histogram(f'{name}.grad',param.grad,epoch)\n",
        "    print('epoch:',epoch,'correct:',total_correct,\"loss:\",total_loss)  \n"
      ],
      "execution_count": 0,
      "outputs": [
        {
          "output_type": "error",
          "ename": "ValueError",
          "evalue": "ignored",
          "traceback": [
            "\u001b[0;31m---------------------------------------------------------------------------\u001b[0m",
            "\u001b[0;31mValueError\u001b[0m                                Traceback (most recent call last)",
            "\u001b[0;32m<ipython-input-56-f7aef42b53a8>\u001b[0m in \u001b[0;36m<module>\u001b[0;34m()\u001b[0m\n\u001b[1;32m      9\u001b[0m   \u001b[0mtb\u001b[0m\u001b[0;34m.\u001b[0m\u001b[0madd_graph\u001b[0m\u001b[0;34m(\u001b[0m\u001b[0mnetwork\u001b[0m\u001b[0;34m,\u001b[0m\u001b[0mimages\u001b[0m\u001b[0;34m)\u001b[0m\u001b[0;34m\u001b[0m\u001b[0;34m\u001b[0m\u001b[0m\n\u001b[1;32m     10\u001b[0m   \u001b[0mtb\u001b[0m\u001b[0;34m.\u001b[0m\u001b[0mclose\u001b[0m\u001b[0;34m(\u001b[0m\u001b[0;34m)\u001b[0m\u001b[0;34m\u001b[0m\u001b[0;34m\u001b[0m\u001b[0m\n\u001b[0;32m---> 11\u001b[0;31m   \u001b[0mtrain_loader\u001b[0m\u001b[0;34m=\u001b[0m\u001b[0mtorch\u001b[0m\u001b[0;34m.\u001b[0m\u001b[0mutils\u001b[0m\u001b[0;34m.\u001b[0m\u001b[0mdata\u001b[0m\u001b[0;34m.\u001b[0m\u001b[0mDataLoader\u001b[0m\u001b[0;34m(\u001b[0m\u001b[0mtrain_set\u001b[0m\u001b[0;34m,\u001b[0m\u001b[0mbatch_size\u001b[0m\u001b[0;34m=\u001b[0m\u001b[0mbatch\u001b[0m\u001b[0;34m,\u001b[0m\u001b[0mshuffle\u001b[0m\u001b[0;34m=\u001b[0m\u001b[0mshuffle\u001b[0m\u001b[0;34m)\u001b[0m\u001b[0;34m\u001b[0m\u001b[0;34m\u001b[0m\u001b[0m\n\u001b[0m\u001b[1;32m     12\u001b[0m   \u001b[0mnetwork\u001b[0m\u001b[0;34m=\u001b[0m\u001b[0mNetwork\u001b[0m\u001b[0;34m(\u001b[0m\u001b[0;34m)\u001b[0m\u001b[0;34m\u001b[0m\u001b[0;34m\u001b[0m\u001b[0m\n\u001b[1;32m     13\u001b[0m   \u001b[0moptimis\u001b[0m\u001b[0;34m=\u001b[0m\u001b[0moptim\u001b[0m\u001b[0;34m.\u001b[0m\u001b[0mAdam\u001b[0m\u001b[0;34m(\u001b[0m\u001b[0mnetwork\u001b[0m\u001b[0;34m.\u001b[0m\u001b[0mparameters\u001b[0m\u001b[0;34m(\u001b[0m\u001b[0;34m)\u001b[0m\u001b[0;34m,\u001b[0m\u001b[0mlr\u001b[0m\u001b[0;34m=\u001b[0m\u001b[0mlr\u001b[0m\u001b[0;34m)\u001b[0m\u001b[0;34m\u001b[0m\u001b[0;34m\u001b[0m\u001b[0m\n",
            "\u001b[0;32m/usr/local/lib/python3.6/dist-packages/torch/utils/data/dataloader.py\u001b[0m in \u001b[0;36m__init__\u001b[0;34m(self, dataset, batch_size, shuffle, sampler, batch_sampler, num_workers, collate_fn, pin_memory, drop_last, timeout, worker_init_fn)\u001b[0m\n\u001b[1;32m    177\u001b[0m                 \u001b[0;32melse\u001b[0m\u001b[0;34m:\u001b[0m\u001b[0;34m\u001b[0m\u001b[0;34m\u001b[0m\u001b[0m\n\u001b[1;32m    178\u001b[0m                     \u001b[0msampler\u001b[0m \u001b[0;34m=\u001b[0m \u001b[0mSequentialSampler\u001b[0m\u001b[0;34m(\u001b[0m\u001b[0mdataset\u001b[0m\u001b[0;34m)\u001b[0m\u001b[0;34m\u001b[0m\u001b[0;34m\u001b[0m\u001b[0m\n\u001b[0;32m--> 179\u001b[0;31m             \u001b[0mbatch_sampler\u001b[0m \u001b[0;34m=\u001b[0m \u001b[0mBatchSampler\u001b[0m\u001b[0;34m(\u001b[0m\u001b[0msampler\u001b[0m\u001b[0;34m,\u001b[0m \u001b[0mbatch_size\u001b[0m\u001b[0;34m,\u001b[0m \u001b[0mdrop_last\u001b[0m\u001b[0;34m)\u001b[0m\u001b[0;34m\u001b[0m\u001b[0;34m\u001b[0m\u001b[0m\n\u001b[0m\u001b[1;32m    180\u001b[0m \u001b[0;34m\u001b[0m\u001b[0m\n\u001b[1;32m    181\u001b[0m         \u001b[0mself\u001b[0m\u001b[0;34m.\u001b[0m\u001b[0msampler\u001b[0m \u001b[0;34m=\u001b[0m \u001b[0msampler\u001b[0m\u001b[0;34m\u001b[0m\u001b[0;34m\u001b[0m\u001b[0m\n",
            "\u001b[0;32m/usr/local/lib/python3.6/dist-packages/torch/utils/data/sampler.py\u001b[0m in \u001b[0;36m__init__\u001b[0;34m(self, sampler, batch_size, drop_last)\u001b[0m\n\u001b[1;32m    160\u001b[0m                 \u001b[0mbatch_size\u001b[0m \u001b[0;34m<=\u001b[0m \u001b[0;36m0\u001b[0m\u001b[0;34m:\u001b[0m\u001b[0;34m\u001b[0m\u001b[0;34m\u001b[0m\u001b[0m\n\u001b[1;32m    161\u001b[0m             raise ValueError(\"batch_size should be a positive integer value, \"\n\u001b[0;32m--> 162\u001b[0;31m                              \"but got batch_size={}\".format(batch_size))\n\u001b[0m\u001b[1;32m    163\u001b[0m         \u001b[0;32mif\u001b[0m \u001b[0;32mnot\u001b[0m \u001b[0misinstance\u001b[0m\u001b[0;34m(\u001b[0m\u001b[0mdrop_last\u001b[0m\u001b[0;34m,\u001b[0m \u001b[0mbool\u001b[0m\u001b[0;34m)\u001b[0m\u001b[0;34m:\u001b[0m\u001b[0;34m\u001b[0m\u001b[0;34m\u001b[0m\u001b[0m\n\u001b[1;32m    164\u001b[0m             raise ValueError(\"drop_last should be a boolean value, but got \"\n",
            "\u001b[0;31mValueError\u001b[0m: batch_size should be a positive integer value, but got batch_size=[tensor([[[[0., 0., 0.,  ..., 0., 0., 0.],\n          [0., 0., 0.,  ..., 0., 0., 0.],\n          [0., 0., 0.,  ..., 0., 0., 0.],\n          ...,\n          [0., 0., 0.,  ..., 0., 0., 0.],\n          [0., 0., 0.,  ..., 0., 0., 0.],\n          [0., 0., 0.,  ..., 0., 0., 0.]]],\n\n\n        [[[0., 0., 0.,  ..., 0., 0., 0.],\n          [0., 0., 0.,  ..., 0., 0., 0.],\n          [0., 0., 0.,  ..., 0., 0., 0.],\n          ...,\n          [0., 0., 0.,  ..., 0., 0., 0.],\n          [0., 0., 0.,  ..., 0., 0., 0.],\n          [0., 0., 0.,  ..., 0., 0., 0.]]],\n\n\n        [[[0., 0., 0.,  ..., 0., 0., 0.],\n          [0., 0., 0.,  ..., 0., 0., 0.],\n          [0., 0., 0.,  ..., 0., 0., 0.],\n          ...,\n          [0., 0., 0.,  ..., 0., 0., 0.],\n          [0., 0., 0.,  ..., 0., 0., 0.],\n          [0., 0., 0.,  ..., 0., 0., 0.]]],\n\n\n        ...,\n\n\n        [[[0., 0., 0.,  ..., 0., 0., 0.],\n          [0., 0., 0.,  ..., 0., 0., 0.],\n          [0., 0., 0.,  ..., 0., 0., 0.],\n          ...,\n          [0., 0., 0.,  ..., 0., 0., 0.],\n          [0., 0., 0.,  ..., 0., 0., 0.],\n          [0., 0., 0.,  ..., 0., 0., 0.]]],\n\n\n        [[[0., 0., 0.,  ..., 0., 0., 0.],\n          [0., 0., 0.,  ..., 0., 0., 0.],\n          [0., 0., 0.,  ..., 0., 0., 0.],\n          ...,\n          [0., 0., 0.,  ..., 0., 0., 0.],\n          [0., 0., 0.,  ..., 0., 0., 0.],\n          [0., 0., 0.,  ..., 0., 0., 0.]]],\n\n\n        [[[0., 0., 0.,  ..., 0., 0., 0.],\n          [0., 0., 0.,  ..., 0., 0., 0.],\n          [0., 0., 0.,  ..., 0., 0., 0.],\n          ...,\n          [0., 0., 0.,  ..., 0., 0., 0.],\n          [0., 0., 0.,  ..., 0., 0., 0.],\n          [0., 0., 0.,  ..., 0., 0., 0.]]]]), tensor([9, 0, 0, 3, 0, 2, 7, 2, 5, 5, 0, 9, 5, 5, 7, 9, 1, 0, 6, 4, 3, 1, 4, 8, 4, 3, 0, 2, 4, 4, 5, 3, 6, 6, 0, 8, 5,\n        2, 1, 6, 6, 7, 9, 5, 9, 2, 7, 3, 0, 3, 3, 3, 7, 2, 2, 6, 6, 8, 3, 3, 5, 0, 5, 5, 0, 2, 0, 0, 4, 1, 3, 1, 6, 3,\n        1, 4, 4, 6, 1, 9, 1, 3, 5, 7, 9, 7, 1, 7, 9, 9, 9, 3, 2, 9, 3, 6, 4, 1, 1, 8])]"
          ]
        }
      ]
    },
    {
      "cell_type": "code",
      "metadata": {
        "id": "DmSo9PCvEEA7",
        "colab_type": "code",
        "colab": {}
      },
      "source": [
        "def get_pred(model,loader):\n",
        "  all=torch.tensor([])\n",
        "  for batch in loader:\n",
        "    images,labels=batch\n",
        "    preds=model(images)\n",
        "    all=torch.cat((all,preds),dim=0)\n",
        "  return all"
      ],
      "execution_count": 0,
      "outputs": []
    },
    {
      "cell_type": "code",
      "metadata": {
        "id": "SafS-oLGH928",
        "colab_type": "code",
        "colab": {}
      },
      "source": [
        "with torch.no_grad():\n",
        "  pred_load=torch.utils.data.DataLoader(train_set,batch_size=10000)\n",
        "  pred_set=get_pred(network,pred_load)"
      ],
      "execution_count": 0,
      "outputs": []
    },
    {
      "cell_type": "code",
      "metadata": {
        "id": "dyO7GXiII1Eg",
        "colab_type": "code",
        "colab": {}
      },
      "source": [
        "pc=get(pred_set,train_set.targets)"
      ],
      "execution_count": 0,
      "outputs": []
    },
    {
      "cell_type": "code",
      "metadata": {
        "id": "W3oxNQz6LBWe",
        "colab_type": "code",
        "colab": {}
      },
      "source": [
        "stac=torch.stack((train_set.targets,pred_set.argmax(dim=1)),dim=1)"
      ],
      "execution_count": 0,
      "outputs": []
    },
    {
      "cell_type": "code",
      "metadata": {
        "id": "QRhtiIR0LtGu",
        "colab_type": "code",
        "outputId": "331230bf-9bb0-4413-e06e-00cdc7aab339",
        "colab": {
          "base_uri": "https://localhost:8080/",
          "height": 136
        }
      },
      "source": [
        "stac"
      ],
      "execution_count": 0,
      "outputs": [
        {
          "output_type": "execute_result",
          "data": {
            "text/plain": [
              "tensor([[9, 9],\n",
              "        [0, 0],\n",
              "        [0, 3],\n",
              "        ...,\n",
              "        [3, 3],\n",
              "        [0, 0],\n",
              "        [5, 5]])"
            ]
          },
          "metadata": {
            "tags": []
          },
          "execution_count": 22
        }
      ]
    },
    {
      "cell_type": "code",
      "metadata": {
        "id": "E2QNHaU_LuQ5",
        "colab_type": "code",
        "outputId": "67448ab6-5403-402d-c630-dd282b8137b7",
        "colab": {
          "base_uri": "https://localhost:8080/",
          "height": 187
        }
      },
      "source": [
        "cm=torch.zeros(10,10,dtype=torch.int32)\n",
        "cm"
      ],
      "execution_count": 0,
      "outputs": [
        {
          "output_type": "execute_result",
          "data": {
            "text/plain": [
              "tensor([[0, 0, 0, 0, 0, 0, 0, 0, 0, 0],\n",
              "        [0, 0, 0, 0, 0, 0, 0, 0, 0, 0],\n",
              "        [0, 0, 0, 0, 0, 0, 0, 0, 0, 0],\n",
              "        [0, 0, 0, 0, 0, 0, 0, 0, 0, 0],\n",
              "        [0, 0, 0, 0, 0, 0, 0, 0, 0, 0],\n",
              "        [0, 0, 0, 0, 0, 0, 0, 0, 0, 0],\n",
              "        [0, 0, 0, 0, 0, 0, 0, 0, 0, 0],\n",
              "        [0, 0, 0, 0, 0, 0, 0, 0, 0, 0],\n",
              "        [0, 0, 0, 0, 0, 0, 0, 0, 0, 0],\n",
              "        [0, 0, 0, 0, 0, 0, 0, 0, 0, 0]], dtype=torch.int32)"
            ]
          },
          "metadata": {
            "tags": []
          },
          "execution_count": 23
        }
      ]
    },
    {
      "cell_type": "code",
      "metadata": {
        "id": "USWwQo99MDEm",
        "colab_type": "code",
        "outputId": "7617670b-5a3f-46ca-fe0b-4aa0923f9769",
        "colab": {
          "base_uri": "https://localhost:8080/",
          "height": 187
        }
      },
      "source": [
        "for p in stac:\n",
        "  j,k=p.tolist()\n",
        "  cm[j,k]=cm[j,k]+1\n",
        "cm"
      ],
      "execution_count": 0,
      "outputs": [
        {
          "output_type": "execute_result",
          "data": {
            "text/plain": [
              "tensor([[5574,   49,   52,  123,   14,    1,  140,    0,   47,    0],\n",
              "        [  10, 5854,    2,  108,   14,    1,    8,    0,    3,    0],\n",
              "        [ 106,    5, 4144,   98, 1145,    1,  475,    0,   26,    0],\n",
              "        [ 248,   72,   15, 5378,  245,    0,   39,    0,    3,    0],\n",
              "        [  18,    4,  195,  197, 5222,    2,  343,    0,   19,    0],\n",
              "        [   2,    1,    3,    3,    1, 5686,    0,  184,   29,   91],\n",
              "        [1769,   16,  403,  175,  620,    0, 2935,    0,   82,    0],\n",
              "        [   1,    0,    0,    0,    0,   34,    0, 5774,    9,  182],\n",
              "        [  49,    1,   26,   22,   28,    8,   38,    2, 5824,    2],\n",
              "        [   0,    0,    0,    1,    0,   13,    0,  162,    4, 5820]], dtype=torch.int32)"
            ]
          },
          "metadata": {
            "tags": []
          },
          "execution_count": 24
        }
      ]
    },
    {
      "cell_type": "code",
      "metadata": {
        "id": "aJIvP6LnMqCW",
        "colab_type": "code",
        "outputId": "8a6c9b08-cb24-48ae-a337-b8c40291f45e",
        "colab": {
          "base_uri": "https://localhost:8080/",
          "height": 187
        }
      },
      "source": [
        "cmt=c(train_set.targets,pred_set.argmax(dim=1))\n",
        "cmt"
      ],
      "execution_count": 0,
      "outputs": [
        {
          "output_type": "execute_result",
          "data": {
            "text/plain": [
              "array([[5574,   49,   52,  123,   14,    1,  140,    0,   47,    0],\n",
              "       [  10, 5854,    2,  108,   14,    1,    8,    0,    3,    0],\n",
              "       [ 106,    5, 4144,   98, 1145,    1,  475,    0,   26,    0],\n",
              "       [ 248,   72,   15, 5378,  245,    0,   39,    0,    3,    0],\n",
              "       [  18,    4,  195,  197, 5222,    2,  343,    0,   19,    0],\n",
              "       [   2,    1,    3,    3,    1, 5686,    0,  184,   29,   91],\n",
              "       [1769,   16,  403,  175,  620,    0, 2935,    0,   82,    0],\n",
              "       [   1,    0,    0,    0,    0,   34,    0, 5774,    9,  182],\n",
              "       [  49,    1,   26,   22,   28,    8,   38,    2, 5824,    2],\n",
              "       [   0,    0,    0,    1,    0,   13,    0,  162,    4, 5820]])"
            ]
          },
          "metadata": {
            "tags": []
          },
          "execution_count": 25
        }
      ]
    },
    {
      "cell_type": "code",
      "metadata": {
        "colab_type": "code",
        "id": "XL08hpfTijIN",
        "colab": {}
      },
      "source": [
        "%load_ext tensorboard\n",
        "%tensorboard --logdir=runs\n"
      ],
      "execution_count": 0,
      "outputs": []
    },
    {
      "cell_type": "code",
      "metadata": {
        "id": "8OFkT11wijiq",
        "colab_type": "code",
        "outputId": "2be0a1b6-9e80-4a3b-9d6f-79baf0c3dbc8",
        "colab": {
          "base_uri": "https://localhost:8080/",
          "height": 129
        }
      },
      "source": [
        "print('%.6f'(14+1/7))"
      ],
      "execution_count": 0,
      "outputs": [
        {
          "output_type": "error",
          "ename": "SyntaxError",
          "evalue": "ignored",
          "traceback": [
            "\u001b[0;36m  File \u001b[0;32m\"<ipython-input-19-5c1e9aa75430>\"\u001b[0;36m, line \u001b[0;32m1\u001b[0m\n\u001b[0;31m    print(%.2f'{14+1/7}')\u001b[0m\n\u001b[0m          ^\u001b[0m\n\u001b[0;31mSyntaxError\u001b[0m\u001b[0;31m:\u001b[0m invalid syntax\n"
          ]
        }
      ]
    },
    {
      "cell_type": "code",
      "metadata": {
        "id": "a0uTwTf-i0oP",
        "colab_type": "code",
        "colab": {}
      },
      "source": [
        ""
      ],
      "execution_count": 0,
      "outputs": []
    }
  ]
}